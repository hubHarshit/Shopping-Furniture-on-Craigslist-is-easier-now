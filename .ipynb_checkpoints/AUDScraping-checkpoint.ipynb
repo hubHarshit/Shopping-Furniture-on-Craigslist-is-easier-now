{
 "cells": [
  {
   "cell_type": "markdown",
   "id": "84c747cd-9ee2-42fb-8142-3e7323924ea9",
   "metadata": {
    "jp-MarkdownHeadingCollapsed": true,
    "tags": []
   },
   "source": [
    "## Scrapping"
   ]
  },
  {
   "cell_type": "code",
   "execution_count": 8,
   "id": "2eb574a4-dfec-49a7-8463-6bf14594ed7b",
   "metadata": {},
   "outputs": [],
   "source": [
    "# Import Soup and create parser\n",
    "from bs4 import BeautifulSoup\n"
   ]
  },
  {
   "cell_type": "code",
   "execution_count": 28,
   "id": "31ded4f8-e312-4192-b8e9-488e8ebb24d6",
   "metadata": {},
   "outputs": [],
   "source": [
    "# finds the body of the text\n",
    "def find_body_text(soup):\n",
    "    body = soup.find(\"section\", {\"id\": \"postingbody\"})\n",
    "    body_text = \"\"\n",
    "    try:\n",
    "        body_text = body.find_all(text=True, recursive = False)[1]\n",
    "    except:\n",
    "        None\n",
    "    return body_text"
   ]
  },
  {
   "cell_type": "code",
   "execution_count": 29,
   "id": "11998155-2c00-4b7a-95df-d92e696546c2",
   "metadata": {},
   "outputs": [],
   "source": [
    "def find_title_text(soup):\n",
    "    title = soup.find(\"span\", {\"id\": \"titletextonly\"})\n",
    "    title_text = title.text\n",
    "    return title_text"
   ]
  },
  {
   "cell_type": "code",
   "execution_count": 30,
   "id": "bac167b6-def0-4a79-937a-86057c2d1f24",
   "metadata": {},
   "outputs": [],
   "source": [
    "# need to do a try expect for empty image set\n",
    "def find_image_list(soup):\n",
    "    image_links = []\n",
    "    image = soup.find(\"div\", {\"id\": \"thumbs\"})\n",
    "    try:\n",
    "        image_anchors = image.find_all(\"a\", {\"class\": \"thumb\"})\n",
    "        for i in image_anchors:\n",
    "            image_links.append(i[\"href\"])\n",
    "    except:\n",
    "        None\n",
    "    return image_links"
   ]
  },
  {
   "cell_type": "code",
   "execution_count": 31,
   "id": "3a5b76ae-ad43-48f5-8a78-c8ad3147c563",
   "metadata": {},
   "outputs": [
    {
     "name": "stdout",
     "output_type": "stream",
     "text": [
      "Pulling request 179: https://tippecanoe.craigslist.org/fuo/d/west-lafayette-bed-and-mattress/7548239952.html\n"
     ]
    }
   ],
   "source": [
    "from craigslist import CraigslistForSale\n",
    "import requests\n",
    "import json\n",
    "from time import sleep\n",
    "from numpy import random\n",
    "from IPython.display import clear_output\n",
    "# structure\n",
    "# id: {title: \"Text\"\n",
    "#      description: \"Text\"\n",
    "#      region: \"location\"  \n",
    "#      images: [\"url1\", \"url2\", \"url3\"]}\n",
    "listings = {}\n",
    "\n",
    "\n",
    "# create the Craiglist object for tippecanoe furnature\n",
    "cl_tp = CraigslistForSale(site='tippecanoe', category='fua')\n",
    "print(\"Tippecanoe Furnature Listing Count: {}\".format(cl_tp.get_results_approx_count()))\n",
    "\n",
    "cl_indy = CraigslistForSale(site=\"indianapolis\", category ='fua')\n",
    "print(\"Indianapolis Furnature Listing Count: {}\".format(cl_indy.get_results_approx_count()))\n",
    "\n",
    "\n",
    "count = 0\n",
    "# iterate through the results to pull the id and the url of each listing\n",
    "for result in cl_tp.get_results(sort_by='newest', geotagged=True):\n",
    "    URL = result['url']\n",
    "    sleep(random.uniform(2,3))\n",
    "    clear_output(wait=True)\n",
    "    count+=1\n",
    "    print(\"Pulling request {}: {}\".format(count, URL))\n",
    "    page = requests.get(URL)\n",
    "    soup = BeautifulSoup(page.text, 'html.parser')\n",
    "    \n",
    "    holder = {}\n",
    "    holder['region'] = \"tippecanoe\"\n",
    "    holder['title'] = find_title_text(soup)\n",
    "    holder['description'] = find_body_text(soup)\n",
    "    holder['images'] = find_image_list(soup)\n",
    "    \n",
    "    listings[result[\"id\"]] = holder"
   ]
  },
  {
   "cell_type": "code",
   "execution_count": 34,
   "id": "4a0d67f0-7c69-4765-867c-02b808249543",
   "metadata": {},
   "outputs": [
    {
     "name": "stdout",
     "output_type": "stream",
     "text": [
      "Pulling request 1549: https://indianapolis.craigslist.org/fuo/d/indianapolis-living-room-set/7548193448.html\n"
     ]
    }
   ],
   "source": [
    "# iterate through the results for indy\n",
    "count = 0\n",
    "\n",
    "for result in cl_indy.get_results(sort_by='newest', geotagged=True):\n",
    "    URL = result['url']\n",
    "    sleep(random.uniform(2,3))\n",
    "    page = requests.get(URL)\n",
    "    soup = BeautifulSoup(page.text, 'html.parser')\n",
    "    count += 1\n",
    "    clear_output(wait=True)\n",
    "    print(\"Pulling request {}: {}\".format(count, URL))\n",
    "    \n",
    "    holder = {}\n",
    "    holder['region'] = \"indianoplis\"\n",
    "    holder['title'] = find_title_text(soup)\n",
    "    holder['description'] = find_body_text(soup)\n",
    "    holder['images'] = find_image_list(soup)\n",
    "    \n",
    "    listings[result[\"id\"]] = holder  "
   ]
  },
  {
   "cell_type": "code",
   "execution_count": 35,
   "id": "dbf3221d-3b5c-4822-b303-316f5df924ea",
   "metadata": {},
   "outputs": [],
   "source": [
    "json_object = json.dumps(listings, indent = 4)\n",
    "with open(\"listings.json\", \"w\") as outfile:\n",
    "    outfile.write(json_object)"
   ]
  },
  {
   "cell_type": "code",
   "execution_count": 19,
   "id": "d5b05ad9-beda-418a-b2ee-00cc0527febf",
   "metadata": {},
   "outputs": [],
   "source": [
    "# convert the json to csv for submission\n",
    "with open(\"AUD\\listings.json\") as f:\n",
    "    file_content = f.read()\n",
    "\n",
    "listings = json.loads(file_content)"
   ]
  },
  {
   "cell_type": "code",
   "execution_count": 30,
   "id": "d8593270-4817-4f5e-a242-6abcb8555188",
   "metadata": {},
   "outputs": [
    {
     "ename": "ImportError",
     "evalue": "scipy.special._ufuncs_cxx does not export expected C variable _export_faddeeva_erfc",
     "output_type": "error",
     "traceback": [
      "\u001b[1;31m---------------------------------------------------------------------------\u001b[0m",
      "\u001b[1;31mImportError\u001b[0m                               Traceback (most recent call last)",
      "Input \u001b[1;32mIn [30]\u001b[0m, in \u001b[0;36m<cell line: 8>\u001b[1;34m()\u001b[0m\n\u001b[0;32m      6\u001b[0m \u001b[38;5;28;01mimport\u001b[39;00m \u001b[38;5;21;01mnltk\u001b[39;00m\n\u001b[0;32m      7\u001b[0m \u001b[38;5;28;01mfrom\u001b[39;00m \u001b[38;5;21;01mnltk\u001b[39;00m\u001b[38;5;21;01m.\u001b[39;00m\u001b[38;5;21;01mcorpus\u001b[39;00m \u001b[38;5;28;01mimport\u001b[39;00m stopwords\n\u001b[1;32m----> 8\u001b[0m \u001b[38;5;28;01mfrom\u001b[39;00m \u001b[38;5;21;01msklearn\u001b[39;00m\u001b[38;5;21;01m.\u001b[39;00m\u001b[38;5;21;01mfeature_extraction\u001b[39;00m\u001b[38;5;21;01m.\u001b[39;00m\u001b[38;5;21;01mtext\u001b[39;00m \u001b[38;5;28;01mimport\u001b[39;00m CountVectorizer\n\u001b[0;32m      9\u001b[0m nltk\u001b[38;5;241m.\u001b[39mdownload(\u001b[38;5;124m'\u001b[39m\u001b[38;5;124mstopwords\u001b[39m\u001b[38;5;124m'\u001b[39m)\n\u001b[0;32m     10\u001b[0m nltk\u001b[38;5;241m.\u001b[39mdownload(\u001b[38;5;124m'\u001b[39m\u001b[38;5;124mpunkt\u001b[39m\u001b[38;5;124m'\u001b[39m)\n",
      "File \u001b[1;32m~\\anaconda3\\lib\\site-packages\\sklearn\\__init__.py:82\u001b[0m, in \u001b[0;36m<module>\u001b[1;34m\u001b[0m\n\u001b[0;32m     80\u001b[0m \u001b[38;5;28;01mfrom\u001b[39;00m \u001b[38;5;21;01m.\u001b[39;00m \u001b[38;5;28;01mimport\u001b[39;00m _distributor_init  \u001b[38;5;66;03m# noqa: F401\u001b[39;00m\n\u001b[0;32m     81\u001b[0m \u001b[38;5;28;01mfrom\u001b[39;00m \u001b[38;5;21;01m.\u001b[39;00m \u001b[38;5;28;01mimport\u001b[39;00m __check_build  \u001b[38;5;66;03m# noqa: F401\u001b[39;00m\n\u001b[1;32m---> 82\u001b[0m \u001b[38;5;28;01mfrom\u001b[39;00m \u001b[38;5;21;01m.\u001b[39;00m\u001b[38;5;21;01mbase\u001b[39;00m \u001b[38;5;28;01mimport\u001b[39;00m clone\n\u001b[0;32m     83\u001b[0m \u001b[38;5;28;01mfrom\u001b[39;00m \u001b[38;5;21;01m.\u001b[39;00m\u001b[38;5;21;01mutils\u001b[39;00m\u001b[38;5;21;01m.\u001b[39;00m\u001b[38;5;21;01m_show_versions\u001b[39;00m \u001b[38;5;28;01mimport\u001b[39;00m show_versions\n\u001b[0;32m     85\u001b[0m __all__ \u001b[38;5;241m=\u001b[39m [\n\u001b[0;32m     86\u001b[0m     \u001b[38;5;124m\"\u001b[39m\u001b[38;5;124mcalibration\u001b[39m\u001b[38;5;124m\"\u001b[39m,\n\u001b[0;32m     87\u001b[0m     \u001b[38;5;124m\"\u001b[39m\u001b[38;5;124mcluster\u001b[39m\u001b[38;5;124m\"\u001b[39m,\n\u001b[1;32m   (...)\u001b[0m\n\u001b[0;32m    128\u001b[0m     \u001b[38;5;124m\"\u001b[39m\u001b[38;5;124mshow_versions\u001b[39m\u001b[38;5;124m\"\u001b[39m,\n\u001b[0;32m    129\u001b[0m ]\n",
      "File \u001b[1;32m~\\anaconda3\\lib\\site-packages\\sklearn\\base.py:17\u001b[0m, in \u001b[0;36m<module>\u001b[1;34m\u001b[0m\n\u001b[0;32m     15\u001b[0m \u001b[38;5;28;01mfrom\u001b[39;00m \u001b[38;5;21;01m.\u001b[39;00m \u001b[38;5;28;01mimport\u001b[39;00m __version__\n\u001b[0;32m     16\u001b[0m \u001b[38;5;28;01mfrom\u001b[39;00m \u001b[38;5;21;01m.\u001b[39;00m\u001b[38;5;21;01m_config\u001b[39;00m \u001b[38;5;28;01mimport\u001b[39;00m get_config\n\u001b[1;32m---> 17\u001b[0m \u001b[38;5;28;01mfrom\u001b[39;00m \u001b[38;5;21;01m.\u001b[39;00m\u001b[38;5;21;01mutils\u001b[39;00m \u001b[38;5;28;01mimport\u001b[39;00m _IS_32BIT\n\u001b[0;32m     18\u001b[0m \u001b[38;5;28;01mfrom\u001b[39;00m \u001b[38;5;21;01m.\u001b[39;00m\u001b[38;5;21;01mutils\u001b[39;00m\u001b[38;5;21;01m.\u001b[39;00m\u001b[38;5;21;01m_tags\u001b[39;00m \u001b[38;5;28;01mimport\u001b[39;00m (\n\u001b[0;32m     19\u001b[0m     _DEFAULT_TAGS,\n\u001b[0;32m     20\u001b[0m     _safe_tags,\n\u001b[0;32m     21\u001b[0m )\n\u001b[0;32m     22\u001b[0m \u001b[38;5;28;01mfrom\u001b[39;00m \u001b[38;5;21;01m.\u001b[39;00m\u001b[38;5;21;01mutils\u001b[39;00m\u001b[38;5;21;01m.\u001b[39;00m\u001b[38;5;21;01mvalidation\u001b[39;00m \u001b[38;5;28;01mimport\u001b[39;00m check_X_y\n",
      "File \u001b[1;32m~\\anaconda3\\lib\\site-packages\\sklearn\\utils\\__init__.py:28\u001b[0m, in \u001b[0;36m<module>\u001b[1;34m\u001b[0m\n\u001b[0;32m     26\u001b[0m \u001b[38;5;28;01mfrom\u001b[39;00m \u001b[38;5;21;01m.\u001b[39;00m\u001b[38;5;21;01m.\u001b[39;00m\u001b[38;5;21;01mexceptions\u001b[39;00m \u001b[38;5;28;01mimport\u001b[39;00m DataConversionWarning\n\u001b[0;32m     27\u001b[0m \u001b[38;5;28;01mfrom\u001b[39;00m \u001b[38;5;21;01m.\u001b[39;00m\u001b[38;5;21;01mdeprecation\u001b[39;00m \u001b[38;5;28;01mimport\u001b[39;00m deprecated\n\u001b[1;32m---> 28\u001b[0m \u001b[38;5;28;01mfrom\u001b[39;00m \u001b[38;5;21;01m.\u001b[39;00m\u001b[38;5;21;01mfixes\u001b[39;00m \u001b[38;5;28;01mimport\u001b[39;00m np_version, parse_version\n\u001b[0;32m     29\u001b[0m \u001b[38;5;28;01mfrom\u001b[39;00m \u001b[38;5;21;01m.\u001b[39;00m\u001b[38;5;21;01m_estimator_html_repr\u001b[39;00m \u001b[38;5;28;01mimport\u001b[39;00m estimator_html_repr\n\u001b[0;32m     30\u001b[0m \u001b[38;5;28;01mfrom\u001b[39;00m \u001b[38;5;21;01m.\u001b[39;00m\u001b[38;5;21;01mvalidation\u001b[39;00m \u001b[38;5;28;01mimport\u001b[39;00m (\n\u001b[0;32m     31\u001b[0m     as_float_array,\n\u001b[0;32m     32\u001b[0m     assert_all_finite,\n\u001b[1;32m   (...)\u001b[0m\n\u001b[0;32m     40\u001b[0m     check_scalar,\n\u001b[0;32m     41\u001b[0m )\n",
      "File \u001b[1;32m~\\anaconda3\\lib\\site-packages\\sklearn\\utils\\fixes.py:20\u001b[0m, in \u001b[0;36m<module>\u001b[1;34m\u001b[0m\n\u001b[0;32m     18\u001b[0m \u001b[38;5;28;01mimport\u001b[39;00m \u001b[38;5;21;01mscipy\u001b[39;00m\u001b[38;5;21;01m.\u001b[39;00m\u001b[38;5;21;01msparse\u001b[39;00m \u001b[38;5;28;01mas\u001b[39;00m \u001b[38;5;21;01msp\u001b[39;00m\n\u001b[0;32m     19\u001b[0m \u001b[38;5;28;01mimport\u001b[39;00m \u001b[38;5;21;01mscipy\u001b[39;00m\n\u001b[1;32m---> 20\u001b[0m \u001b[38;5;28;01mimport\u001b[39;00m \u001b[38;5;21;01mscipy\u001b[39;00m\u001b[38;5;21;01m.\u001b[39;00m\u001b[38;5;21;01mstats\u001b[39;00m\n\u001b[0;32m     21\u001b[0m \u001b[38;5;28;01mfrom\u001b[39;00m \u001b[38;5;21;01mscipy\u001b[39;00m\u001b[38;5;21;01m.\u001b[39;00m\u001b[38;5;21;01msparse\u001b[39;00m\u001b[38;5;21;01m.\u001b[39;00m\u001b[38;5;21;01mlinalg\u001b[39;00m \u001b[38;5;28;01mimport\u001b[39;00m lsqr \u001b[38;5;28;01mas\u001b[39;00m sparse_lsqr  \u001b[38;5;66;03m# noqa\u001b[39;00m\n\u001b[0;32m     22\u001b[0m \u001b[38;5;28;01mimport\u001b[39;00m \u001b[38;5;21;01mthreadpoolctl\u001b[39;00m\n",
      "File \u001b[1;32m~\\anaconda3\\lib\\site-packages\\scipy\\stats\\__init__.py:441\u001b[0m, in \u001b[0;36m<module>\u001b[1;34m\u001b[0m\n\u001b[0;32m      1\u001b[0m \u001b[38;5;124;03m\"\"\"\u001b[39;00m\n\u001b[0;32m      2\u001b[0m \u001b[38;5;124;03m.. _statsrefmanual:\u001b[39;00m\n\u001b[0;32m      3\u001b[0m \n\u001b[1;32m   (...)\u001b[0m\n\u001b[0;32m    438\u001b[0m \n\u001b[0;32m    439\u001b[0m \u001b[38;5;124;03m\"\"\"\u001b[39;00m\n\u001b[1;32m--> 441\u001b[0m \u001b[38;5;28;01mfrom\u001b[39;00m \u001b[38;5;21;01m.\u001b[39;00m\u001b[38;5;21;01mstats\u001b[39;00m \u001b[38;5;28;01mimport\u001b[39;00m \u001b[38;5;241m*\u001b[39m\n\u001b[0;32m    442\u001b[0m \u001b[38;5;28;01mfrom\u001b[39;00m \u001b[38;5;21;01m.\u001b[39;00m\u001b[38;5;21;01mdistributions\u001b[39;00m \u001b[38;5;28;01mimport\u001b[39;00m \u001b[38;5;241m*\u001b[39m\n\u001b[0;32m    443\u001b[0m \u001b[38;5;28;01mfrom\u001b[39;00m \u001b[38;5;21;01m.\u001b[39;00m\u001b[38;5;21;01mmorestats\u001b[39;00m \u001b[38;5;28;01mimport\u001b[39;00m \u001b[38;5;241m*\u001b[39m\n",
      "File \u001b[1;32m~\\anaconda3\\lib\\site-packages\\scipy\\stats\\stats.py:43\u001b[0m, in \u001b[0;36m<module>\u001b[1;34m\u001b[0m\n\u001b[0;32m     41\u001b[0m \u001b[38;5;28;01mimport\u001b[39;00m \u001b[38;5;21;01mscipy\u001b[39;00m\u001b[38;5;21;01m.\u001b[39;00m\u001b[38;5;21;01mspecial\u001b[39;00m \u001b[38;5;28;01mas\u001b[39;00m \u001b[38;5;21;01mspecial\u001b[39;00m\n\u001b[0;32m     42\u001b[0m \u001b[38;5;28;01mfrom\u001b[39;00m \u001b[38;5;21;01mscipy\u001b[39;00m \u001b[38;5;28;01mimport\u001b[39;00m linalg\n\u001b[1;32m---> 43\u001b[0m \u001b[38;5;28;01mfrom\u001b[39;00m \u001b[38;5;21;01m.\u001b[39;00m \u001b[38;5;28;01mimport\u001b[39;00m distributions\n\u001b[0;32m     44\u001b[0m \u001b[38;5;28;01mfrom\u001b[39;00m \u001b[38;5;21;01m.\u001b[39;00m \u001b[38;5;28;01mimport\u001b[39;00m mstats_basic\n\u001b[0;32m     45\u001b[0m \u001b[38;5;28;01mfrom\u001b[39;00m \u001b[38;5;21;01m.\u001b[39;00m\u001b[38;5;21;01m_stats_mstats_common\u001b[39;00m \u001b[38;5;28;01mimport\u001b[39;00m (_find_repeats, linregress, theilslopes,\n\u001b[0;32m     46\u001b[0m                                    siegelslopes)\n",
      "File \u001b[1;32m~\\anaconda3\\lib\\site-packages\\scipy\\stats\\distributions.py:10\u001b[0m, in \u001b[0;36m<module>\u001b[1;34m\u001b[0m\n\u001b[0;32m      1\u001b[0m \u001b[38;5;66;03m#\u001b[39;00m\n\u001b[0;32m      2\u001b[0m \u001b[38;5;66;03m# Author:  Travis Oliphant  2002-2011 with contributions from\u001b[39;00m\n\u001b[0;32m      3\u001b[0m \u001b[38;5;66;03m#          SciPy Developers 2004-2011\u001b[39;00m\n\u001b[1;32m   (...)\u001b[0m\n\u001b[0;32m      6\u001b[0m \u001b[38;5;66;03m#       instead of `git blame -Lxxx,+x`.\u001b[39;00m\n\u001b[0;32m      7\u001b[0m \u001b[38;5;66;03m#\u001b[39;00m\n\u001b[0;32m      8\u001b[0m \u001b[38;5;28;01mfrom\u001b[39;00m \u001b[38;5;21;01m.\u001b[39;00m\u001b[38;5;21;01m_distn_infrastructure\u001b[39;00m \u001b[38;5;28;01mimport\u001b[39;00m (rv_discrete, rv_continuous, rv_frozen)\n\u001b[1;32m---> 10\u001b[0m \u001b[38;5;28;01mfrom\u001b[39;00m \u001b[38;5;21;01m.\u001b[39;00m \u001b[38;5;28;01mimport\u001b[39;00m _continuous_distns\n\u001b[0;32m     11\u001b[0m \u001b[38;5;28;01mfrom\u001b[39;00m \u001b[38;5;21;01m.\u001b[39;00m \u001b[38;5;28;01mimport\u001b[39;00m _discrete_distns\n\u001b[0;32m     13\u001b[0m \u001b[38;5;28;01mfrom\u001b[39;00m \u001b[38;5;21;01m.\u001b[39;00m\u001b[38;5;21;01m_continuous_distns\u001b[39;00m \u001b[38;5;28;01mimport\u001b[39;00m \u001b[38;5;241m*\u001b[39m\n",
      "File \u001b[1;32m~\\anaconda3\\lib\\site-packages\\scipy\\stats\\_continuous_distns.py:22\u001b[0m, in \u001b[0;36m<module>\u001b[1;34m\u001b[0m\n\u001b[0;32m     20\u001b[0m \u001b[38;5;28;01mimport\u001b[39;00m \u001b[38;5;21;01mscipy\u001b[39;00m\u001b[38;5;21;01m.\u001b[39;00m\u001b[38;5;21;01mspecial\u001b[39;00m\u001b[38;5;21;01m.\u001b[39;00m\u001b[38;5;21;01m_ufuncs\u001b[39;00m \u001b[38;5;28;01mas\u001b[39;00m \u001b[38;5;21;01mscu\u001b[39;00m\n\u001b[0;32m     21\u001b[0m \u001b[38;5;28;01mfrom\u001b[39;00m \u001b[38;5;21;01mscipy\u001b[39;00m\u001b[38;5;21;01m.\u001b[39;00m\u001b[38;5;21;01m_lib\u001b[39;00m\u001b[38;5;21;01m.\u001b[39;00m\u001b[38;5;21;01m_util\u001b[39;00m \u001b[38;5;28;01mimport\u001b[39;00m _lazyselect, _lazywhere\n\u001b[1;32m---> 22\u001b[0m \u001b[38;5;28;01mfrom\u001b[39;00m \u001b[38;5;21;01m.\u001b[39;00m \u001b[38;5;28;01mimport\u001b[39;00m _stats\n\u001b[0;32m     23\u001b[0m \u001b[38;5;28;01mfrom\u001b[39;00m \u001b[38;5;21;01m.\u001b[39;00m\u001b[38;5;21;01m_rvs_sampling\u001b[39;00m \u001b[38;5;28;01mimport\u001b[39;00m rvs_ratio_uniforms\n\u001b[0;32m     24\u001b[0m \u001b[38;5;28;01mfrom\u001b[39;00m \u001b[38;5;21;01m.\u001b[39;00m\u001b[38;5;21;01m_tukeylambda_stats\u001b[39;00m \u001b[38;5;28;01mimport\u001b[39;00m (tukeylambda_variance \u001b[38;5;28;01mas\u001b[39;00m _tlvar,\n\u001b[0;32m     25\u001b[0m                                  tukeylambda_kurtosis \u001b[38;5;28;01mas\u001b[39;00m _tlkurt)\n",
      "File \u001b[1;32m_stats.pyx:1\u001b[0m, in \u001b[0;36minit scipy.stats._stats\u001b[1;34m()\u001b[0m\n",
      "File \u001b[1;32mcython_special.pyx:1\u001b[0m, in \u001b[0;36minit scipy.special.cython_special\u001b[1;34m()\u001b[0m\n",
      "\u001b[1;31mImportError\u001b[0m: scipy.special._ufuncs_cxx does not export expected C variable _export_faddeeva_erfc"
     ]
    }
   ],
   "source": [
    "### Creating the labels\n",
    "\n",
    "import numpy as np\n",
    "import pandas as pd\n",
    "import string\n",
    "import nltk\n",
    "from nltk.corpus import stopwords\n",
    "from sklearn.feature_extraction.text import CountVectorizer\n",
    "nltk.download('stopwords')\n",
    "nltk.download('punkt')\n",
    "nltk.download('wordnet')\n",
    "nltk.download('omw-1.4')\n",
    "nltk.download('averaged_perceptron_tagger')"
   ]
  },
  {
   "cell_type": "code",
   "execution_count": 36,
   "id": "0aafa00c-4e27-4634-a6e2-b66ff6bccb66",
   "metadata": {},
   "outputs": [],
   "source": [
    "import csv\n",
    "\n",
    "\n",
    "\n",
    "header = [\"id\", \"region\", \"title\", \"description\", \"images\", \"label\"]\n",
    "fname = \"listings.csv\"\n",
    "with open(fname, 'w', encoding = \"UTF8\", newline=\"\") as f:\n",
    "    writer = csv.writer(f)\n",
    "    writer.writerow(header)\n",
    "    for i in listings:\n",
    "        row=[]\n",
    "        row.append(i)\n",
    "        row.append(listings[i][\"region\"])\n",
    "        row.append(listings[i][\"title\"])\n",
    "        row.append(listings[i][\"description\"][1:])\n",
    "        row.append(listings[i][\"images\"])\n",
    "        writer.writerow(row)\n",
    "    "
   ]
  },
  {
   "cell_type": "markdown",
   "id": "ca85fb90-30aa-4d07-a8f5-ec6e22de1f99",
   "metadata": {
    "tags": []
   },
   "source": [
    "### Image Classification"
   ]
  },
  {
   "cell_type": "code",
   "execution_count": 3,
   "id": "f7c0f25e-3144-47e5-b55f-872503e76338",
   "metadata": {},
   "outputs": [
    {
     "name": "stdout",
     "output_type": "stream",
     "text": [
      "Model: \"vgg16\"\n",
      "_________________________________________________________________\n",
      " Layer (type)                Output Shape              Param #   \n",
      "=================================================================\n",
      " input_2 (InputLayer)        [(None, 224, 224, 3)]     0         \n",
      "                                                                 \n",
      " block1_conv1 (Conv2D)       (None, 224, 224, 64)      1792      \n",
      "                                                                 \n",
      " block1_conv2 (Conv2D)       (None, 224, 224, 64)      36928     \n",
      "                                                                 \n",
      " block1_pool (MaxPooling2D)  (None, 112, 112, 64)      0         \n",
      "                                                                 \n",
      " block2_conv1 (Conv2D)       (None, 112, 112, 128)     73856     \n",
      "                                                                 \n",
      " block2_conv2 (Conv2D)       (None, 112, 112, 128)     147584    \n",
      "                                                                 \n",
      " block2_pool (MaxPooling2D)  (None, 56, 56, 128)       0         \n",
      "                                                                 \n",
      " block3_conv1 (Conv2D)       (None, 56, 56, 256)       295168    \n",
      "                                                                 \n",
      " block3_conv2 (Conv2D)       (None, 56, 56, 256)       590080    \n",
      "                                                                 \n",
      " block3_conv3 (Conv2D)       (None, 56, 56, 256)       590080    \n",
      "                                                                 \n",
      " block3_pool (MaxPooling2D)  (None, 28, 28, 256)       0         \n",
      "                                                                 \n",
      " block4_conv1 (Conv2D)       (None, 28, 28, 512)       1180160   \n",
      "                                                                 \n",
      " block4_conv2 (Conv2D)       (None, 28, 28, 512)       2359808   \n",
      "                                                                 \n",
      " block4_conv3 (Conv2D)       (None, 28, 28, 512)       2359808   \n",
      "                                                                 \n",
      " block4_pool (MaxPooling2D)  (None, 14, 14, 512)       0         \n",
      "                                                                 \n",
      " block5_conv1 (Conv2D)       (None, 14, 14, 512)       2359808   \n",
      "                                                                 \n",
      " block5_conv2 (Conv2D)       (None, 14, 14, 512)       2359808   \n",
      "                                                                 \n",
      " block5_conv3 (Conv2D)       (None, 14, 14, 512)       2359808   \n",
      "                                                                 \n",
      " block5_pool (MaxPooling2D)  (None, 7, 7, 512)         0         \n",
      "                                                                 \n",
      " flatten (Flatten)           (None, 25088)             0         \n",
      "                                                                 \n",
      " fc1 (Dense)                 (None, 4096)              102764544 \n",
      "                                                                 \n",
      " fc2 (Dense)                 (None, 4096)              16781312  \n",
      "                                                                 \n",
      " predictions (Dense)         (None, 1000)              4097000   \n",
      "                                                                 \n",
      "=================================================================\n",
      "Total params: 138,357,544\n",
      "Trainable params: 138,357,544\n",
      "Non-trainable params: 0\n",
      "_________________________________________________________________\n",
      "None\n"
     ]
    }
   ],
   "source": [
    "# Test images for prediction using a pretrained model\n",
    "from tensorflow import keras\n",
    "from keras.applications.vgg16 import VGG16\n",
    "import requests\n",
    "model = VGG16(weights='imagenet')\n",
    "print(model.summary())\n",
    "\n",
    "from tensorflow.keras.preprocessing import image\n",
    "from tensorflow.keras.applications.vgg16 import preprocess_input,decode_predictions\n",
    "import numpy as np\n",
    "\n",
    "\n",
    "import json\n",
    "with open(\"listings.json\") as f:\n",
    "    file_content = f.read()\n",
    "\n",
    "listings = json.loads(file_content)\n"
   ]
  },
  {
   "cell_type": "code",
   "execution_count": 9,
   "id": "e8f2b947-b364-427e-ba3a-959f4f35e0a0",
   "metadata": {
    "tags": []
   },
   "outputs": [
    {
     "data": {
      "image/png": "[encoded data removed]",
      "text/plain": [
       "<PIL.Image.Image image mode=RGB size=224x224>"
      ]
     },
     "metadata": {},
     "output_type": "display_data"
    }
   ],
   "source": [
    "import io\n",
    "import os\n",
    "from PIL import Image\n",
    "#There is an interpolation method to match the source size with the target size\n",
    "#image loaded in PIL (Python Imaging Library)\n",
    "url = \"https://images.craigslist.org/00C0C_jBpxpew9vFxz_09G05r_600x450.jpg\"\n",
    "#img = image.load_img(img_path,color_mode='rgb', target_size=(224, 224))\n",
    "response = requests.get(url)\n",
    "img = Image.open(io.BytesIO(response.content))\n",
    "img = img.resize((224,224), Image.Resampling.LANCZOS)\n",
    "display(img)"
   ]
  },
  {
   "cell_type": "code",
   "execution_count": 10,
   "id": "6928628c-0633-4b37-91fe-c0511e9e0531",
   "metadata": {},
   "outputs": [],
   "source": [
    "# Converts a PIL Image to 3D Numy Array\n",
    "x = image.img_to_array(img)\n",
    "x.shape\n",
    "# Adding the fouth dimension, for number of images\n",
    "x = np.expand_dims(x, axis=0)"
   ]
  },
  {
   "cell_type": "code",
   "execution_count": 11,
   "id": "827862af-92f7-435c-a701-1d2a4261389e",
   "metadata": {},
   "outputs": [
    {
     "name": "stdout",
     "output_type": "stream",
     "text": [
      "1/1 [==============================] - 0s 171ms/step\n"
     ]
    }
   ],
   "source": [
    "#mean centering with respect to Image\n",
    "x = preprocess_input(x)\n",
    "features = model.predict(x)\n",
    "p = decode_predictions(features)"
   ]
  },
  {
   "cell_type": "code",
   "execution_count": 12,
   "id": "653ef26c-473c-49d5-960d-e51461c9c87d",
   "metadata": {},
   "outputs": [
    {
     "data": {
      "text/plain": [
       "[[('n03337140', 'file', 0.30466723),\n",
       "  ('n04550184', 'wardrobe', 0.25590605),\n",
       "  ('n03016953', 'chiffonier', 0.16004649),\n",
       "  ('n03179701', 'desk', 0.11011315),\n",
       "  ('n04125021', 'safe', 0.08050689)]]"
      ]
     },
     "execution_count": 12,
     "metadata": {},
     "output_type": "execute_result"
    }
   ],
   "source": [
    "p"
   ]
  },
  {
   "cell_type": "markdown",
   "id": "0e9165e1",
   "metadata": {},
   "source": [
    "## Text Classification"
   ]
  },
  {
   "cell_type": "markdown",
   "id": "a4605d87",
   "metadata": {},
   "source": [
    "### Random Forest Algo"
   ]
  },
  {
   "cell_type": "code",
   "execution_count": null,
   "id": "c8202436-3fb6-4a02-af6f-3a9a96dd6fc5",
   "metadata": {},
   "outputs": [],
   "source": [
    "import pandas as pd\n",
    "import html\n",
    "import numpy as np\n",
    "import string\n",
    "import nltk\n",
    "import re\n",
    "from nltk.corpus import stopwords\n",
    "from sklearn.feature_extraction.text import TfidfVectorizer\n",
    "from sklearn.naive_bayes import MultinomialNB\n",
    "from sklearn.svm import LinearSVC\n",
    "from sklearn.ensemble import RandomForestClassifier\n",
    "from sklearn.neural_network import MLPClassifier\n",
    "from sklearn.model_selection import train_test_split\n",
    "from sklearn.metrics import accuracy_score\n",
    "nltk.download('stopwords')\n",
    "nltk.download('punkt')\n",
    "nltk.download('wordnet')\n",
    "nltk.download('omw-1.4')\n",
    "nltk.download('averaged_perceptron_tagger')"
   ]
  },
  {
   "cell_type": "code",
   "execution_count": null,
   "id": "ae2e6ee5",
   "metadata": {},
   "outputs": [],
   "source": [
    "# reading excel file that was scrapped from Craigslist\n",
    "df = pd.read_excel('listings.xlsx')[:1299]'p'\n",
    "\n",
    "def latin_utf8(text):\n",
    "    try:\n",
    "        return text.encode(\"latin1\").decode(\"utf8\")\n",
    "    except:\n",
    "        return text\n",
    "\n",
    "for col in ['title','description']:\n",
    "    # fix the php and html parsing issues\n",
    "    df[col] = df[col].apply(lambda text: html.unescape(str(text)))\n",
    "    # fix no space after period\n",
    "    df[col] = df[col].apply(lambda text: re.sub(r'[\\.]', \" \", text))\n",
    "    # fix the latin encoding issue for décor\n",
    "    df[col] = df[col].apply(lambda text: latin_utf8(text))\n",
    "\n",
    "    # remove and punctuation and replace with blank don't => dont, this will help fix some spelling and grammar issues\n",
    "    df[col] = df[col].apply(lambda text: re.sub(r'[^\\w\\s]', \"\", text))\n",
    "    \n",
    "# combining title and description into a string\n",
    "df['combined'] = df['title']+ ' ' +df['description']\n",
    "\n",
    "#divide data into train and test set\n",
    "train = df.sample(frac=0.9)\n",
    "test = df.drop(train.index)\n",
    "X_train = train['combined']\n",
    "X_test = test['combined']\n",
    "y_train = train['label']\n",
    "y_test = test['label']"
   ]
  },
  {
   "cell_type": "code",
   "execution_count": null,
   "id": "6a7f87df",
   "metadata": {},
   "outputs": [],
   "source": [
    "# X_train pre processing\n",
    "X_train_token = [nltk.word_tokenize(str(l)) for l in X_train]\n",
    "remove_list = list(string.punctuation)+stopwords.words('english')\n",
    "X_train_token = [[word.lower() for word in review if word.lower() not in remove_list and word.isalpha()] for review in X_train_token]\n",
    "\n",
    "lemmatizer = nltk.stem.WordNetLemmatizer()\n",
    "X_train_lemm = []\n",
    "for review in X_train_token:\n",
    "    lemreview = []\n",
    "    for token in review:\n",
    "        lemm = lemmatizer.lemmatize(token)\n",
    "        lemreview.append(lemm)\n",
    "    X_train_lemm.append(lemreview)\n",
    "\n",
    "vectorizer = TfidfVectorizer(min_df=5,ngram_range=(1,2))\n",
    "X_train_processed = []\n",
    "for review in X_train_lemm:\n",
    "    review = ' '.join(review)\n",
    "    X_train_processed.append(review)\n",
    "\n",
    "X_train_tfidf = vectorizer.fit_transform(X_train_processed).toarray()\n",
    "\n",
    "# X_test pre processing\n",
    "X_test_token = [nltk.word_tokenize(str(l)) for l in X_test]\n",
    "X_test_token = [[word.lower() for word in review if word.lower() not in remove_list and word.isalpha()] for review in X_test_token]\n",
    "\n",
    "lemmatizer = nltk.stem.WordNetLemmatizer()\n",
    "X_test_lemm = []\n",
    "for review in X_test_token:\n",
    "    lemreview = []\n",
    "    for token in review:\n",
    "        lemm = lemmatizer.lemmatize(token)\n",
    "        lemreview.append(lemm)\n",
    "    X_test_lemm.append(lemreview)\n",
    "\n",
    "X_test_processed = []\n",
    "for review in X_test_lemm:\n",
    "    review = ' '.join(review)\n",
    "    X_test_processed.append(review)\n",
    "\n",
    "X_test_tfidf = vectorizer.transform(X_test_processed).toarray()"
   ]
  },
  {
   "cell_type": "markdown",
   "id": "14314ae4",
   "metadata": {},
   "source": [
    "### Random Forest Test"
   ]
  },
  {
   "cell_type": "code",
   "execution_count": null,
   "id": "68453326",
   "metadata": {},
   "outputs": [],
   "source": [
    "# Random Forest Test\n",
    "rf = RandomForestClassifier(random_state=1)\n",
    "rf.fit(X_train_tfidf,y_train)\n",
    "y_test_pred_rf = rf.predict(X_test_tfidf)\n",
    "y_train_pred_rf = rf.predict(X_train_tfidf)\n",
    "score_train_rf = accuracy_score(y_train,y_train_pred_rf)\n",
    "score_test_rf = accuracy_score(y_test, y_test_pred_rf)\n",
    "print(\"Train Score: \",score_train_rf)\n",
    "print(\"Test Score: \",score_test_rf)"
   ]
  },
  {
   "cell_type": "markdown",
   "id": "8bec818f",
   "metadata": {},
   "source": [
    "### Dataframe with ID, Title_Description, Predicted Label, Probability"
   ]
  },
  {
   "cell_type": "code",
   "execution_count": null,
   "id": "4de8374d",
   "metadata": {},
   "outputs": [],
   "source": [
    "proba_mat = pd.DataFrame(rf.predict_proba(X_test_tfidf)).apply(lambda x: x.max(),axis=1)\n",
    "labels = pd.DataFrame(y_test_pred_rf).reset_index()\n",
    "combined = pd.DataFrame(X_test).reset_index()\n",
    "proba_rf = pd.concat([test['id'],combined,labels,proba_mat],axis=1,ignore_index=True).drop([1,3],axis=1)\n",
    "proba_rf.columns = ['id','title_description','label','proba']\n",
    "proba_rf.head()"
   ]
  },
  {
   "cell_type": "markdown",
   "id": "ca25da40",
   "metadata": {},
   "source": [
    "## Exception Model"
   ]
  },
  {
   "cell_type": "code",
   "execution_count": null,
   "id": "6a0e869d",
   "metadata": {},
   "outputs": [],
   "source": [
    "import numpy as np \n",
    "import pandas as pd\n",
    "import os\n",
    "from tensorflow.python.keras.models import Sequential\n",
    "from tensorflow.python.keras.layers import Dense, Flatten, GlobalAveragePooling2D, Activation, Flatten, Dropout\n",
    "from tensorflow.python.keras import optimizers, regularizers\n",
    "from tensorflow.keras.applications.xception import Xception\n",
    "from keras.applications.xception import preprocess_input\n",
    "from tensorflow.python.keras.models import Model\n",
    "from tensorflow.keras.optimizers import SGD\n",
    "from keras_preprocessing.image import ImageDataGenerator\n",
    "import glob\n",
    "from datasets.utils.file_utils import get_datasets_user_agent\n",
    "import requests\n",
    "from ast import literal_eval\n",
    "\n",
    "import io\n",
    "from PIL import Image\n",
    "import urllib"
   ]
  },
  {
   "cell_type": "markdown",
   "id": "11a1913a",
   "metadata": {},
   "source": [
    "### Downloading the images (Only run once)"
   ]
  },
  {
   "cell_type": "code",
   "execution_count": null,
   "id": "b83bde67",
   "metadata": {},
   "outputs": [],
   "source": [
    "# load the xlsx\n",
    "# downloading the images to the right directory from craiglist, only the first image, based on label\n",
    "\n",
    "df_load = pd.read_excel(r'listings.xlsx')\n",
    "\n",
    "df = df_load.iloc[:1299, :-1]\n",
    "\n",
    "df[\"images\"] = df[\"images\"].apply(literal_eval)\n",
    "print(df)\n",
    "path = \"Data/train/\"\n",
    "\n",
    "for index, row in df.iterrows():\n",
    "    # list of images from listing\n",
    "    image_list = row[\"images\"]\n",
    "    \n",
    "    #pull the first image in the list\n",
    "    try:\n",
    "        image_url = image_list[0]\n",
    "    except:\n",
    "        continue\n",
    "    #set to listing id\n",
    "    image_id = row[\"id\"]\n",
    "    label = row[\"label\"]\n",
    "    image_path = path + \"cl_\" + label + \"/\" + str(image_id) +\".jpg\"\n",
    "    USER_AGENT = get_datasets_user_agent()\n",
    "    \n",
    "    #if the image_url is empty this will break\n",
    "\n",
    "    request = urllib.request.Request(\n",
    "        image_url,\n",
    "        data=None,\n",
    "        headers={\"user-agent\": USER_AGENT},\n",
    "    )\n",
    "\n",
    "    if not os.path.isfile(image_path):\n",
    "        with urllib.request.urlopen(request, timeout=None) as req:\n",
    "            image = Image.open(io.BytesIO(req.read()))\n",
    "            image.save(image_path)"
   ]
  },
  {
   "cell_type": "markdown",
   "id": "8a35aeb5",
   "metadata": {},
   "source": [
    "### Creating the data to feed to the NN"
   ]
  },
  {
   "cell_type": "code",
   "execution_count": null,
   "id": "28157e94",
   "metadata": {},
   "outputs": [],
   "source": [
    "mappings = pd.DataFrame(columns = [\"filepath\",\"label\"], index=[\"\"]).dropna()"
   ]
  },
  {
   "cell_type": "code",
   "execution_count": null,
   "id": "659ed4a3",
   "metadata": {},
   "outputs": [],
   "source": [
    "mappings.shape"
   ]
  },
  {
   "cell_type": "code",
   "execution_count": null,
   "id": "d55b66a6",
   "metadata": {},
   "outputs": [],
   "source": [
    "### maps every image path to a label for training\n",
    "\n",
    "path = \"Data/train\"\n",
    "# get all folders in train set\n",
    "with os.scandir(path) as entries:\n",
    "    for entry in entries:\n",
    "        directory = entry.name\n",
    "        label = \"\"\n",
    "        if directory == \"bed\":\n",
    "            label = \"sleeping\"\n",
    "        elif directory in [\"sofa\", \"chair\", \"swivelchair\"]:\n",
    "            label = \"seating\"\n",
    "        elif directory == \"table\":\n",
    "            label = \"table\"\n",
    "        elif directory[:3] == \"cl_\":\n",
    "            label = directory[3:]\n",
    "        else:\n",
    "            continue\n",
    "            \n",
    "        \n",
    "        #get all images in a specific folder\n",
    "        directory_path = path +\"/\"+entry.name\n",
    "        with os.scandir(directory_path) as files:\n",
    "            for file in files:\n",
    "                img_path = directory_path + \"/\" + file.name\n",
    "                \n",
    "                mappings.loc[len(mappings.index)] = [img_path, label]"
   ]
  },
  {
   "cell_type": "code",
   "execution_count": null,
   "id": "cb04f52a",
   "metadata": {},
   "outputs": [],
   "source": [
    "# Match the test set for the model"
   ]
  },
  {
   "cell_type": "markdown",
   "id": "24b16c6d",
   "metadata": {},
   "source": [
    "### Training NN"
   ]
  },
  {
   "cell_type": "code",
   "execution_count": null,
   "id": "0ab72bcf",
   "metadata": {},
   "outputs": [],
   "source": [
    "# instantiating the model\n",
    "\n",
    "model = Sequential()\n",
    "model.add(Xception(include_top=False, pooling='avg', weights=\"imagenet\"))\n",
    "model.add(Dense(64))\n",
    "model.add(Activation('relu'))\n",
    "model.add(Dropout(0.8))\n",
    "model.add(Dense(6, activation='softmax'))\n",
    "model.layers[0].trainable = False\n",
    "model.compile(optimizer='sgd', loss='categorical_crossentropy', metrics=['accuracy'])"
   ]
  },
  {
   "cell_type": "code",
   "execution_count": null,
   "id": "800a320f",
   "metadata": {},
   "outputs": [],
   "source": [
    "# Create the train/val and test sets\n",
    "# Creating a dataframe with 10%\n",
    "# values of original dataframe\n",
    "test_df = mappings.sample(frac = 0.1)\n",
    "\n",
    "# Creating dataframe with\n",
    "# rest of the 90% values\n",
    "train_val_df = mappings.drop(test_df.index)"
   ]
  },
  {
   "cell_type": "code",
   "execution_count": null,
   "id": "51e04e8e",
   "metadata": {},
   "outputs": [],
   "source": [
    "test_df.shape"
   ]
  },
  {
   "cell_type": "code",
   "execution_count": null,
   "id": "09bf614e",
   "metadata": {},
   "outputs": [],
   "source": [
    "image_size = 299\n",
    "\n",
    "datagen = ImageDataGenerator(preprocessing_function=preprocess_input, \n",
    "                             rescale=1./255.,\n",
    "                             horizontal_flip=True,\n",
    "                             width_shift_range = 0.2,\n",
    "                             height_shift_range = 0.2,\n",
    "                             validation_split=0.25)\n",
    "\n",
    "# removed the directory=r\"./furniture_images/\", arg\n",
    "train_generator=datagen.flow_from_dataframe(dataframe=train_val_df,\n",
    "                        x_col=\"filepath\",y_col=\"label\",has_ext=False,\n",
    "                        subset=\"training\",batch_size=32,\n",
    "                        shuffle=True,class_mode=\"categorical\",\n",
    "                        target_size=(image_size, image_size))\n",
    "\n",
    "# removed the directory=r\"./furniture_images\", arg\n",
    "valid_generator=datagen.flow_from_dataframe(\n",
    "                        dataframe=train_val_df,\n",
    "                        x_col=\"filepath\",\n",
    "                        y_col=\"label\",has_ext=False,\n",
    "                        subset=\"validation\",batch_size=1,\n",
    "                        class_mode=\"categorical\",target_size=(image_size, image_size))\n",
    "\n",
    "\n",
    "# test_datagen=ImageDataGenerator(preprocessing_function=preprocess_input,rescale=1./255.)\n",
    "# test_generator=test_datagen.flow_from_dataframe(\n",
    "#                             dataframe=test_df,\n",
    "#                             directory=\"../input/test/\",x_col=\"id\",\n",
    "#                             y_col=None,has_ext=False,batch_size=1,\n",
    "#                             seed=42,shuffle=False,\n",
    "#                             class_mode=None,target_size=(image_size, image_size))"
   ]
  },
  {
   "cell_type": "code",
   "execution_count": null,
   "id": "1d0454ac",
   "metadata": {},
   "outputs": [],
   "source": [
    "# generate the test test\n",
    "test_datagen=ImageDataGenerator(preprocessing_function=preprocess_input,rescale=1./255.)\n",
    "test_generator=test_datagen.flow_from_dataframe(\n",
    "                            dataframe=test_df,\n",
    "                            x_col=\"filepath\",\n",
    "                            y_col=\"label\",has_ext=False,batch_size=1,\n",
    "                            seed=42,shuffle=False,\n",
    "                            class_mode=None,target_size=(image_size, image_size))"
   ]
  },
  {
   "cell_type": "markdown",
   "id": "8b43c699",
   "metadata": {},
   "source": [
    "#### Verify GPU CUDA is detected"
   ]
  },
  {
   "cell_type": "code",
   "execution_count": null,
   "id": "8fdad069",
   "metadata": {},
   "outputs": [],
   "source": [
    "from tensorflow.python.client import device_lib \n",
    "print(device_lib.list_local_devices())"
   ]
  },
  {
   "cell_type": "markdown",
   "id": "fd6ef2d4",
   "metadata": {},
   "source": [
    "### Train the model (skip and use pickle)"
   ]
  },
  {
   "cell_type": "code",
   "execution_count": null,
   "id": "f2eff17f",
   "metadata": {},
   "outputs": [],
   "source": [
    "model.fit(train_generator,\n",
    "          steps_per_epoch=train_generator.n,\n",
    "          validation_data=valid_generator,\n",
    "          validation_steps=train_generator.n,\n",
    "          epochs=10)"
   ]
  },
  {
   "cell_type": "markdown",
   "id": "794f2410",
   "metadata": {},
   "source": [
    "### Prediction"
   ]
  },
  {
   "cell_type": "code",
   "execution_count": null,
   "id": "14fd8ae2",
   "metadata": {},
   "outputs": [],
   "source": [
    "pred=model.predict_generator(test_generator,verbose=1)"
   ]
  }
 ],
 "metadata": {
  "kernelspec": {
   "display_name": "Python 3 (ipykernel)",
   "language": "python",
   "name": "python3"
  },
  "language_info": {
   "codemirror_mode": {
    "name": "ipython",
    "version": 3
   },
   "file_extension": ".py",
   "mimetype": "text/x-python",
   "name": "python",
   "nbconvert_exporter": "python",
   "pygments_lexer": "ipython3",
   "version": "3.9.13"
  }
 },
 "nbformat": 4,
 "nbformat_minor": 5
}
